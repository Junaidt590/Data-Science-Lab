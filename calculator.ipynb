{
 "cells": [
  {
   "cell_type": "code",
   "execution_count": null,
   "metadata": {},
   "outputs": [
    {
     "name": "stdout",
     "output_type": "stream",
     "text": [
      "1 addition\n",
      "2 subtraction\n",
      "3 multiplication\n",
      "4 divison\n",
      "enter choice:1\n",
      "enter first number: 100\n",
      "enter second number: 650\n",
      "750.0\n",
      "1 addition\n",
      "2 subtraction\n",
      "3 multiplication\n",
      "4 divison\n",
      "enter choice:2\n",
      "enter first number: 75\n",
      "enter second number: 15\n",
      "60.0\n",
      "1 addition\n",
      "2 subtraction\n",
      "3 multiplication\n",
      "4 divison\n",
      "enter choice:3\n",
      "enter first number: 65\n",
      "enter second number: 8\n",
      "520.0\n",
      "1 addition\n",
      "2 subtraction\n",
      "3 multiplication\n",
      "4 divison\n",
      "enter choice:4\n",
      "enter first number: 65\n",
      "enter second number: 3\n",
      "21.666666666666668\n",
      "1 addition\n",
      "2 subtraction\n",
      "3 multiplication\n",
      "4 divison\n",
      "enter choice:5\n",
      "1 addition\n",
      "2 subtraction\n",
      "3 multiplication\n",
      "4 divison\n"
     ]
    }
   ],
   "source": [
    "#simple calculator\n",
    "\n",
    "def add(x, y):\n",
    "    return x + y\n",
    "def mul(x, y):\n",
    "    return x * y\n",
    "def sub(x, y):\n",
    "    return x - y\n",
    "def div(x, y):\n",
    "    return x / y\n",
    "\n",
    "\n",
    "while True:\n",
    "    print(\"1 addition\")\n",
    "    print(\"2 subtraction\")\n",
    "    print(\"3 multiplication\")\n",
    "    print(\"4 divison\")\n",
    "    op = input(\"enter choice:\")\n",
    "    if op in ('1', '2', '3', '4'):\n",
    "        n1 = float(input(\"enter first number: \"))\n",
    "        n2 = float(input(\"enter second number: \"))\n",
    "        \n",
    "        if op == '1':\n",
    "            print(add(n1, n2))\n",
    "        elif op == '2':\n",
    "            print(sub(n1, n2))\n",
    "        elif op == '3':\n",
    "            print(mul(n1, n2))\n",
    "        elif op == '4':\n",
    "            if n2 == 0:\n",
    "                print(\"division is not possible\")\n",
    "            else:\n",
    "                print(div(n1, n2))\n",
    "        \n",
    "        else:\n",
    "            print(\"invalid\")\n",
    "        "
   ]
  },
  {
   "cell_type": "code",
   "execution_count": null,
   "metadata": {
    "collapsed": true
   },
   "outputs": [],
   "source": []
  }
 ],
 "metadata": {
  "kernelspec": {
   "display_name": "Python 3",
   "language": "python",
   "name": "python3"
  },
  "language_info": {
   "codemirror_mode": {
    "name": "ipython",
    "version": 3
   },
   "file_extension": ".py",
   "mimetype": "text/x-python",
   "name": "python",
   "nbconvert_exporter": "python",
   "pygments_lexer": "ipython3",
   "version": "3.6.3"
  }
 },
 "nbformat": 4,
 "nbformat_minor": 2
}
