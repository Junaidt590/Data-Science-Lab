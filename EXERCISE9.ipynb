{
 "cells": [
  {
   "cell_type": "code",
   "execution_count": 2,
   "metadata": {},
   "outputs": [
    {
     "name": "stdout",
     "output_type": "stream",
     "text": [
      "   X  Y\n",
      "0  1  1\n",
      "1  2  1\n",
      "2  2  3\n",
      "3  3  2\n",
      "4  4  3\n",
      "5  5  5\n",
      "[[1 1]\n",
      " [2 1]\n",
      " [2 3]\n",
      " [3 2]\n",
      " [4 3]\n",
      " [5 5]]\n",
      "[1 1 1 1 0 0]\n"
     ]
    },
    {
     "data": {
      "image/png": "[encoded data removed]",
      "text/plain": [
       "<matplotlib.figure.Figure at 0x7f3468130898>"
      ]
     },
     "metadata": {},
     "output_type": "display_data"
    }
   ],
   "source": [
    "import pandas as pd\n",
    "a= pd.read_csv(\"kmean.csv\")\n",
    "print(a)\n",
    "x=a.iloc[:,:].values\n",
    "print(x)\n",
    "\n",
    "#no training set required\n",
    "from sklearn.cluster import KMeans\n",
    "kmeans=KMeans(init='k-means++',n_clusters=2,random_state=0).fit(x)\n",
    "p=kmeans.predict(x)\n",
    "print(p)\n",
    "\n",
    "#plotting graph\n",
    "import matplotlib.pyplot as plt\n",
    "colors=list(map(lambda x:'#3b4cc0' if x==1 else '#b204f8',p))\n",
    "plt.scatter(x[:,0],x[:,1],c=colors,marker='+',picker=True)\n",
    "plt.show()"
   ]
  },
  {
   "cell_type": "code",
   "execution_count": null,
   "metadata": {
    "collapsed": true
   },
   "outputs": [],
   "source": []
  }
 ],
 "metadata": {
  "kernelspec": {
   "display_name": "Python 3",
   "language": "python",
   "name": "python3"
  },
  "language_info": {
   "codemirror_mode": {
    "name": "ipython",
    "version": 3
   },
   "file_extension": ".py",
   "mimetype": "text/x-python",
   "name": "python",
   "nbconvert_exporter": "python",
   "pygments_lexer": "ipython3",
   "version": "3.6.3"
  }
 },
 "nbformat": 4,
 "nbformat_minor": 2
}
