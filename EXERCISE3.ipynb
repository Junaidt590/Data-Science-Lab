{
 "cells": [
  {
   "cell_type": "code",
   "execution_count": 2,
   "metadata": {},
   "outputs": [
    {
     "name": "stdout",
     "output_type": "stream",
     "text": [
      "matrix into svd\n",
      "\n",
      "[[-0.42540792  0.81454009 -0.39440149]\n",
      " [-0.73060838 -0.56628785 -0.38148325]\n",
      " [-0.53407817  0.12586704  0.83601316]]\n",
      "[16.02030706  5.27693398  0.70973914]\n",
      "[[-0.55130002 -0.77658076 -0.30494362]\n",
      " [-0.45438401 -0.02706513  0.89039466]\n",
      " [-0.6997167   0.6294361  -0.33794488]]\n",
      "\n",
      "svd into matrix\n",
      "[[2. 5. 6.]\n",
      " [8. 9. 1.]\n",
      " [4. 7. 3.]]\n"
     ]
    }
   ],
   "source": [
    "#program to perform svd \n",
    "import numpy as num\n",
    "from scipy.linalg import svd\n",
    "b=num.array([[2,5,6],[8,9,1],[4,7,3]])\n",
    "v,s,t=svd(b)\n",
    "print(\"matrix into svd\\n\")\n",
    "print(v)\n",
    "print(s)\n",
    "print(t)\n",
    "print(\"\\nsvd into matrix\")\n",
    "e=( v @ num.diag(s) @t)\n",
    "print(e)"
   ]
  },
  {
   "cell_type": "code",
   "execution_count": null,
   "metadata": {
    "collapsed": true
   },
   "outputs": [],
   "source": []
  }
 ],
 "metadata": {
  "kernelspec": {
   "display_name": "Python 3",
   "language": "python",
   "name": "python3"
  },
  "language_info": {
   "codemirror_mode": {
    "name": "ipython",
    "version": 3
   },
   "file_extension": ".py",
   "mimetype": "text/x-python",
   "name": "python",
   "nbconvert_exporter": "python",
   "pygments_lexer": "ipython3",
   "version": "3.6.3"
  }
 },
 "nbformat": 4,
 "nbformat_minor": 2
}
